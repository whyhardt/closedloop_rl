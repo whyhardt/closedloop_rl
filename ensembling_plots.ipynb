{
 "cells": [
  {
   "cell_type": "code",
   "execution_count": 2,
   "metadata": {},
   "outputs": [],
   "source": [
    "import sys\n",
    "import warnings\n",
    "\n",
    "import pickle\n",
    "import time\n",
    "import torch\n",
    "import numpy as np\n",
    "import matplotlib.pyplot as plt\n",
    "import seaborn as sns\n",
    "import pandas as pd\n"
   ]
  },
  {
   "cell_type": "code",
   "execution_count": 7,
   "metadata": {},
   "outputs": [],
   "source": [
    "df = pd.read_csv(\"losses.csv\")"
   ]
  },
  {
   "cell_type": "code",
   "execution_count": 9,
   "metadata": {},
   "outputs": [
    {
     "data": {
      "text/html": [
       "<div>\n",
       "<style scoped>\n",
       "    .dataframe tbody tr th:only-of-type {\n",
       "        vertical-align: middle;\n",
       "    }\n",
       "\n",
       "    .dataframe tbody tr th {\n",
       "        vertical-align: top;\n",
       "    }\n",
       "\n",
       "    .dataframe thead th {\n",
       "        text-align: right;\n",
       "    }\n",
       "</style>\n",
       "<table border=\"1\" class=\"dataframe\">\n",
       "  <thead>\n",
       "    <tr style=\"text-align: right;\">\n",
       "      <th></th>\n",
       "      <th>model</th>\n",
       "      <th>loss</th>\n",
       "    </tr>\n",
       "  </thead>\n",
       "  <tbody>\n",
       "    <tr>\n",
       "      <th>0</th>\n",
       "      <td>n32_eA_rF_vMedian</td>\n",
       "      <td>0.615254</td>\n",
       "    </tr>\n",
       "    <tr>\n",
       "      <th>1</th>\n",
       "      <td>n32_eA_rF_vMedian</td>\n",
       "      <td>0.615254</td>\n",
       "    </tr>\n",
       "    <tr>\n",
       "      <th>2</th>\n",
       "      <td>n32_eA_rF_vMedian</td>\n",
       "      <td>0.615254</td>\n",
       "    </tr>\n",
       "    <tr>\n",
       "      <th>3</th>\n",
       "      <td>n32_eA_rF_vMedian</td>\n",
       "      <td>0.615254</td>\n",
       "    </tr>\n",
       "    <tr>\n",
       "      <th>4</th>\n",
       "      <td>n32_eA_rF_vMedian</td>\n",
       "      <td>0.615254</td>\n",
       "    </tr>\n",
       "  </tbody>\n",
       "</table>\n",
       "</div>"
      ],
      "text/plain": [
       "               model      loss\n",
       "0  n32_eA_rF_vMedian  0.615254\n",
       "1  n32_eA_rF_vMedian  0.615254\n",
       "2  n32_eA_rF_vMedian  0.615254\n",
       "3  n32_eA_rF_vMedian  0.615254\n",
       "4  n32_eA_rF_vMedian  0.615254"
      ]
     },
     "execution_count": 9,
     "metadata": {},
     "output_type": "execute_result"
    }
   ],
   "source": [
    "df.head()"
   ]
  },
  {
   "cell_type": "markdown",
   "metadata": {},
   "source": [
    "n4_eA_rF_vMedian_loss:\n",
    "sampling_replacement = False\n",
    "n_submodels = 32\n",
    "ensemble = rnn_training.ensemble_types.AVERAGE\n",
    "voting_type = rnn.EnsembleRNN.MEDIAN  # necessary if ensemble==True\n",
    "\n",
    "\n",
    "n16_eA_loss:\n",
    "sampling_replacement = False\n",
    "n_submodels = 16\n",
    "ensemble = rnn_training.ensemble_types.AVERAGE\n",
    "voting_type = rnn.EnsembleRNN.MEDIAN  # necessary if ensemble==True\n",
    "\n",
    "\n",
    "n4_eA_loss / n4_eA_rF_vMedian_loss:\n",
    "sampling_replacement = False\n",
    "n_submodels = 4\n",
    "ensemble = rnn_training.ensemble_types.AVERAGE\n",
    "voting_type = rnn.EnsembleRNN.MEDIAN\n",
    "\n",
    "\n",
    "n4_eA_mean_loss:\n",
    "sampling_replacement = False\n",
    "n_submodels = 4\n",
    "ensemble = rnn_training.ensemble_types.AVERAGE\n",
    "voting_type = rnn.EnsembleRNN.MEAN\n",
    "\n",
    "\n",
    "n4_eA_rT_vA_loss:\n",
    "sampling_replacement = True\n",
    "n_submodels = 4\n",
    "ensemble = rnn_training.ensemble_types.AVERAGE\n",
    "voting_type = rnn.EnsembleRNN.MEDIAN\n"
   ]
  },
  {
   "cell_type": "code",
   "execution_count": 11,
   "metadata": {},
   "outputs": [
    {
     "data": {
      "text/plain": [
       "<AxesSubplot:xlabel='model', ylabel='loss'>"
      ]
     },
     "execution_count": 11,
     "metadata": {},
     "output_type": "execute_result"
    },
    {
     "data": {
      "image/png": "[encoded data removed]",
      "text/plain": [
       "<Figure size 576x576 with 1 Axes>"
      ]
     },
     "metadata": {
      "needs_background": "light"
     },
     "output_type": "display_data"
    }
   ],
   "source": [
    "fig, ax = plt.subplots(nrows=1, ncols=1, figsize=(8,8))\n",
    "\n",
    "sns.boxplot(data=df, x=\"model\", y=\"loss\")"
   ]
  },
  {
   "cell_type": "code",
   "execution_count": 10,
   "metadata": {},
   "outputs": [
    {
     "data": {
      "text/plain": [
       "<AxesSubplot:xlabel='model', ylabel='loss'>"
      ]
     },
     "execution_count": 10,
     "metadata": {},
     "output_type": "execute_result"
    },
    {
     "data": {
      "image/png": "[encoded data removed]",
      "text/plain": [
       "<Figure size 432x288 with 1 Axes>"
      ]
     },
     "metadata": {
      "needs_background": "light"
     },
     "output_type": "display_data"
    }
   ],
   "source": [
    "sns.pointplot(data=df, x=\"model\", y=\"loss\")"
   ]
  }
 ],
 "metadata": {
  "kernelspec": {
   "display_name": "ml",
   "language": "python",
   "name": "python3"
  },
  "language_info": {
   "codemirror_mode": {
    "name": "ipython",
    "version": 3
   },
   "file_extension": ".py",
   "mimetype": "text/x-python",
   "name": "python",
   "nbconvert_exporter": "python",
   "pygments_lexer": "ipython3",
   "version": "3.6.13"
  }
 },
 "nbformat": 4,
 "nbformat_minor": 2
}
