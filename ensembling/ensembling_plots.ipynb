{
 "cells": [
  {
   "cell_type": "code",
   "execution_count": 81,
   "metadata": {},
   "outputs": [],
   "source": [
    "import numpy as np\n",
    "import matplotlib.pyplot as plt\n",
    "import seaborn as sns\n",
    "import pandas as pd\n"
   ]
  },
  {
   "cell_type": "code",
   "execution_count": 107,
   "metadata": {},
   "outputs": [],
   "source": [
    "df = pd.read_csv(\"losses.csv\")\n",
    "\n",
    "loss_mean = pd.read_csv(\"losses_mean.csv\")\n",
    "\n",
    "#df = loss.append(loss_mean)"
   ]
  },
  {
   "cell_type": "code",
   "execution_count": 74,
   "metadata": {},
   "outputs": [
    {
     "data": {
      "text/html": [
       "<div>\n",
       "<style scoped>\n",
       "    .dataframe tbody tr th:only-of-type {\n",
       "        vertical-align: middle;\n",
       "    }\n",
       "\n",
       "    .dataframe tbody tr th {\n",
       "        vertical-align: top;\n",
       "    }\n",
       "\n",
       "    .dataframe thead th {\n",
       "        text-align: right;\n",
       "    }\n",
       "</style>\n",
       "<table border=\"1\" class=\"dataframe\">\n",
       "  <thead>\n",
       "    <tr style=\"text-align: right;\">\n",
       "      <th></th>\n",
       "      <th>model</th>\n",
       "      <th>loss</th>\n",
       "      <th>Replacement</th>\n",
       "      <th>Submodels</th>\n",
       "      <th>Ensemble</th>\n",
       "      <th>Sessions</th>\n",
       "      <th>Trials</th>\n",
       "      <th>Voting</th>\n",
       "    </tr>\n",
       "  </thead>\n",
       "  <tbody>\n",
       "    <tr>\n",
       "      <th>0</th>\n",
       "      <td>model_name</td>\n",
       "      <td>0.626156</td>\n",
       "      <td>True</td>\n",
       "      <td>4</td>\n",
       "      <td>average</td>\n",
       "      <td>32</td>\n",
       "      <td>50</td>\n",
       "      <td>mean</td>\n",
       "    </tr>\n",
       "    <tr>\n",
       "      <th>1</th>\n",
       "      <td>model_name</td>\n",
       "      <td>0.626156</td>\n",
       "      <td>True</td>\n",
       "      <td>4</td>\n",
       "      <td>average</td>\n",
       "      <td>32</td>\n",
       "      <td>50</td>\n",
       "      <td>mean</td>\n",
       "    </tr>\n",
       "    <tr>\n",
       "      <th>2</th>\n",
       "      <td>model_name</td>\n",
       "      <td>0.626156</td>\n",
       "      <td>True</td>\n",
       "      <td>4</td>\n",
       "      <td>average</td>\n",
       "      <td>32</td>\n",
       "      <td>50</td>\n",
       "      <td>mean</td>\n",
       "    </tr>\n",
       "    <tr>\n",
       "      <th>3</th>\n",
       "      <td>model_name</td>\n",
       "      <td>0.626156</td>\n",
       "      <td>True</td>\n",
       "      <td>4</td>\n",
       "      <td>average</td>\n",
       "      <td>32</td>\n",
       "      <td>50</td>\n",
       "      <td>mean</td>\n",
       "    </tr>\n",
       "    <tr>\n",
       "      <th>4</th>\n",
       "      <td>model_name</td>\n",
       "      <td>0.626156</td>\n",
       "      <td>True</td>\n",
       "      <td>4</td>\n",
       "      <td>average</td>\n",
       "      <td>32</td>\n",
       "      <td>50</td>\n",
       "      <td>mean</td>\n",
       "    </tr>\n",
       "    <tr>\n",
       "      <th>...</th>\n",
       "      <td>...</td>\n",
       "      <td>...</td>\n",
       "      <td>...</td>\n",
       "      <td>...</td>\n",
       "      <td>...</td>\n",
       "      <td>...</td>\n",
       "      <td>...</td>\n",
       "      <td>...</td>\n",
       "    </tr>\n",
       "    <tr>\n",
       "      <th>565</th>\n",
       "      <td>model_name</td>\n",
       "      <td>0.613512</td>\n",
       "      <td>True</td>\n",
       "      <td>32</td>\n",
       "      <td>average</td>\n",
       "      <td>256</td>\n",
       "      <td>200</td>\n",
       "      <td>mean</td>\n",
       "    </tr>\n",
       "    <tr>\n",
       "      <th>566</th>\n",
       "      <td>model_name</td>\n",
       "      <td>0.613512</td>\n",
       "      <td>True</td>\n",
       "      <td>32</td>\n",
       "      <td>average</td>\n",
       "      <td>256</td>\n",
       "      <td>200</td>\n",
       "      <td>mean</td>\n",
       "    </tr>\n",
       "    <tr>\n",
       "      <th>567</th>\n",
       "      <td>model_name</td>\n",
       "      <td>0.613512</td>\n",
       "      <td>True</td>\n",
       "      <td>32</td>\n",
       "      <td>average</td>\n",
       "      <td>256</td>\n",
       "      <td>200</td>\n",
       "      <td>mean</td>\n",
       "    </tr>\n",
       "    <tr>\n",
       "      <th>568</th>\n",
       "      <td>model_name</td>\n",
       "      <td>0.613512</td>\n",
       "      <td>True</td>\n",
       "      <td>32</td>\n",
       "      <td>average</td>\n",
       "      <td>256</td>\n",
       "      <td>200</td>\n",
       "      <td>mean</td>\n",
       "    </tr>\n",
       "    <tr>\n",
       "      <th>569</th>\n",
       "      <td>model_name</td>\n",
       "      <td>0.613511</td>\n",
       "      <td>True</td>\n",
       "      <td>32</td>\n",
       "      <td>average</td>\n",
       "      <td>256</td>\n",
       "      <td>200</td>\n",
       "      <td>mean</td>\n",
       "    </tr>\n",
       "  </tbody>\n",
       "</table>\n",
       "<p>570 rows × 8 columns</p>\n",
       "</div>"
      ],
      "text/plain": [
       "          model      loss Replacement  Submodels Ensemble  Sessions  Trials  \\\n",
       "0    model_name  0.626156        True          4  average        32      50   \n",
       "1    model_name  0.626156        True          4  average        32      50   \n",
       "2    model_name  0.626156        True          4  average        32      50   \n",
       "3    model_name  0.626156        True          4  average        32      50   \n",
       "4    model_name  0.626156        True          4  average        32      50   \n",
       "..          ...       ...         ...        ...      ...       ...     ...   \n",
       "565  model_name  0.613512        True         32  average       256     200   \n",
       "566  model_name  0.613512        True         32  average       256     200   \n",
       "567  model_name  0.613512        True         32  average       256     200   \n",
       "568  model_name  0.613512        True         32  average       256     200   \n",
       "569  model_name  0.613511        True         32  average       256     200   \n",
       "\n",
       "    Voting  \n",
       "0     mean  \n",
       "1     mean  \n",
       "2     mean  \n",
       "3     mean  \n",
       "4     mean  \n",
       "..     ...  \n",
       "565   mean  \n",
       "566   mean  \n",
       "567   mean  \n",
       "568   mean  \n",
       "569   mean  \n",
       "\n",
       "[570 rows x 8 columns]"
      ]
     },
     "execution_count": 74,
     "metadata": {},
     "output_type": "execute_result"
    }
   ],
   "source": [
    "loss_mean"
   ]
  },
  {
   "cell_type": "code",
   "execution_count": null,
   "metadata": {},
   "outputs": [],
   "source": [
    "df[\"Replacement\"] = df[\"Replacement\"].astype(\"string\")\n",
    "df[\"Replacement\"] = df[\"Replacement\"].str.lower()"
   ]
  },
  {
   "cell_type": "code",
   "execution_count": 110,
   "metadata": {},
   "outputs": [
    {
     "data": {
      "text/plain": [
       "Replacement  Voting  Submodels  Trials  Sessions\n",
       "false        median  4          50      32          0.615014\n",
       "                     16         50      32          0.872852\n",
       "                     32         50      32          0.649938\n",
       "true         median  4          50      32          0.593845\n",
       "                     16         50      32          0.655046\n",
       "                     32         50      32          0.593376\n",
       "Name: loss, dtype: float64"
      ]
     },
     "execution_count": 110,
     "metadata": {},
     "output_type": "execute_result"
    }
   ],
   "source": [
    "dfff = df.query('Sessions == 32 and Trials == 50 ')\n",
    "\n",
    "dfff.groupby([\"Replacement\", \"Voting\", \"Submodels\", \"Trials\", \"Sessions\"]).loss.mean()\n",
    "\n",
    "#df[\"Replacement\"][1]"
   ]
  },
  {
   "cell_type": "code",
   "execution_count": 144,
   "metadata": {},
   "outputs": [
    {
     "data": {
      "image/png": "[encoded data removed]",
      "text/plain": [
       "<Figure size 576x288 with 2 Axes>"
      ]
     },
     "metadata": {
      "needs_background": "light"
     },
     "output_type": "display_data"
    }
   ],
   "source": [
    "df1 = df.query('Sessions == 256 and Trials == 200 and Voting == \"median\" and Ensemble == \"average\" ')\n",
    "baseline_acc = df.query('model == \"Baseline\"').loss.mean() \n",
    "\n",
    "\n",
    "fig, ax = plt.subplots(nrows=1, ncols=2, figsize=(8,4)) #, sharex=True\n",
    "\n",
    "  \n",
    "ax[0].axhline(baseline_acc, ls='--', color=\"green\", label=\"Baseline\")\n",
    "\n",
    "sns.pointplot(\n",
    "        data=df1, \n",
    "        x=\"Submodels\", \n",
    "        y=\"loss\", \n",
    "        hue=\"Replacement\",\n",
    "        errorbar=\"sd\",\n",
    "        ax=ax[0]\n",
    "        )\n",
    "\n",
    "\n",
    "\n",
    "ax[1].axhline(baseline_acc, ls='--', color=\"green\", label=\"Baseline\")\n",
    "\n",
    "df2 = loss_mean.query('Sessions == 256 and Trials == 200 and Voting == \"mean\" and Ensemble == \"average\" ')\n",
    "sns.pointplot(\n",
    "        data=df2, \n",
    "        x=\"Submodels\", \n",
    "        y=\"loss\", \n",
    "        hue=\"Replacement\",\n",
    "        errorbar=\"sd\",\n",
    "        ax=ax[1]\n",
    "        )\n",
    "\n",
    "ax[0].set_title(\"Voting = Median\")\n",
    "ax[1].set_title(\"Voting = Mean\")\n",
    "\n",
    "\n",
    "ax[1].set_ylim(0.4, 0.9)\n",
    "ax[0].set_ylim(0.4, 0.9)\n",
    "\n",
    "#ax[1].set_yticks(np.arange(0.4,1, 0.05))\n",
    "\n",
    "\n",
    "plt.suptitle(\"Ensemble = Average, Sessions = 256, Trials = 200\")\n",
    "\n",
    "plt.tight_layout()\n",
    "plt.show()\n"
   ]
  },
  {
   "cell_type": "code",
   "execution_count": 146,
   "metadata": {},
   "outputs": [
    {
     "data": {
      "image/png": "[encoded data removed]",
      "text/plain": [
       "<Figure size 576x288 with 2 Axes>"
      ]
     },
     "metadata": {
      "needs_background": "light"
     },
     "output_type": "display_data"
    }
   ],
   "source": [
    "df1 = df.query('Sessions == 32 and Trials == 50 and Voting == \"median\" and Ensemble == \"average\" ')\n",
    "\n",
    "fig, ax = plt.subplots(nrows=1, ncols=2, figsize=(8,4))\n",
    "\n",
    "     \n",
    "ax[0].axhline(baseline_acc, ls='--', color=\"green\", label=\"Baseline\")\n",
    "\n",
    "sns.pointplot(\n",
    "        data=df1, \n",
    "        x=\"Submodels\", \n",
    "        y=\"loss\", \n",
    "        hue=\"Replacement\",\n",
    "        #errorbar=\"sd\",\n",
    "        ax=ax[0]\n",
    "        )\n",
    "\n",
    "ax[0].set_title(\"Voting = Median\")\n",
    "\n",
    "\n",
    "ax[1].axhline(baseline_acc, ls='--', color=\"green\", label=\"Baseline\")\n",
    "\n",
    "df2 = loss_mean.query('Sessions == 32 and Trials == 50 and Voting == \"mean\" and Ensemble == \"average\" ')\n",
    "sns.pointplot(\n",
    "        data=df2, \n",
    "        x=\"Submodels\", \n",
    "        y=\"loss\", \n",
    "        hue=\"Replacement\",\n",
    "        #errorbar=\"sd\",\n",
    "        ax=ax[1]\n",
    "        )\n",
    "        \n",
    "ax[1].set_title(\"Voting = Mean\")\n",
    "\n",
    "\n",
    "ax[1].set_ylim(0.3, 0.9)\n",
    "ax[0].set_ylim(0.3, 0.9)\n",
    "\n",
    "\n",
    "plt.suptitle(\"Ensemble = Average, Sessions = 32, Trials = 50\")\n",
    "\n",
    "plt.tight_layout()\n",
    "plt.show()\n",
    "\n",
    "# facet by vote and average"
   ]
  },
  {
   "cell_type": "markdown",
   "metadata": {},
   "source": [
    "### beta"
   ]
  },
  {
   "cell_type": "code",
   "execution_count": 149,
   "metadata": {},
   "outputs": [],
   "source": [
    "baseline_acc2 = [0.6868224143981934,\n",
    " 0.6868224740028381,\n",
    " 0.6868224143981934,\n",
    " 0.6868224740028381,\n",
    " 0.6868224740028381,\n",
    " 0.6868224740028381,\n",
    " 0.6868223547935486,\n",
    " 0.6868224740028381,\n",
    " 0.6868224740028381,\n",
    " 0.6868224143981934]"
   ]
  },
  {
   "cell_type": "code",
   "execution_count": 123,
   "metadata": {},
   "outputs": [],
   "source": [
    "df_beta = pd.read_csv(\"losses_beta.csv\")\n"
   ]
  },
  {
   "cell_type": "code",
   "execution_count": 153,
   "metadata": {},
   "outputs": [
    {
     "data": {
      "image/png": "[encoded data removed]",
      "text/plain": [
       "<Figure size 576x288 with 2 Axes>"
      ]
     },
     "metadata": {
      "needs_background": "light"
     },
     "output_type": "display_data"
    }
   ],
   "source": [
    "df1 = df_beta.query('Sessions == 256 and Trials == 200 and Voting == \"median\" and Ensemble == \"average\" ')\n",
    "\n",
    "fig, ax = plt.subplots(nrows=1, ncols=2, figsize=(8,4))\n",
    "\n",
    "     \n",
    "ax[0].axhline( np.mean(baseline_acc2), ls='--', color=\"green\", label=\"Baseline\")\n",
    "\n",
    "sns.pointplot(\n",
    "        data=df1, \n",
    "        x=\"Submodels\", \n",
    "        y=\"loss\", \n",
    "        hue=\"Replacement\",\n",
    "        #errorbar=\"sd\",\n",
    "        ax=ax[0]\n",
    "        )\n",
    "\n",
    "ax[0].set_title(\"Voting = Median\")\n",
    "\n",
    "\n",
    "ax[1].axhline(np.mean(baseline_acc2), ls='--', color=\"green\", label=\"Baseline\")\n",
    "\n",
    "df2 = df_beta.query('Sessions == 256 and Trials == 200 and Voting == \"mean\" and Ensemble == \"average\" ')\n",
    "sns.pointplot(\n",
    "        data=df2, \n",
    "        x=\"Submodels\", \n",
    "        y=\"loss\", \n",
    "        hue=\"Replacement\",\n",
    "        #errorbar=\"sd\",\n",
    "        ax=ax[1]\n",
    "        )\n",
    "        \n",
    "ax[1].set_title(\"Voting = Mean\")\n",
    "\n",
    "\n",
    "ax[1].set_ylim(0.3,1)\n",
    "ax[0].set_ylim(0.3,1)\n",
    "\n",
    "\n",
    "plt.suptitle(\"Ensemble = Average, Sessions = 256, Trials = 200\")\n",
    "\n",
    "plt.tight_layout()\n",
    "plt.show()\n",
    "\n",
    "# facet by vote and average"
   ]
  }
 ],
 "metadata": {
  "kernelspec": {
   "display_name": "ml",
   "language": "python",
   "name": "python3"
  },
  "language_info": {
   "codemirror_mode": {
    "name": "ipython",
    "version": 3
   },
   "file_extension": ".py",
   "mimetype": "text/x-python",
   "name": "python",
   "nbconvert_exporter": "python",
   "pygments_lexer": "ipython3",
   "version": "3.6.13"
  }
 },
 "nbformat": 4,
 "nbformat_minor": 2
}
